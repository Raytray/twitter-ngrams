{
 "metadata": {
  "name": ""
 },
 "nbformat": 3,
 "nbformat_minor": 0,
 "worksheets": [
  {
   "cells": [
    {
     "cell_type": "code",
     "collapsed": false,
     "input": [
      "import vincent\n",
      "import pandas\n",
      "import pprint\n",
      "import datetime\n",
      "\n",
      "from mongo_query import find\n",
      "\n",
      "from vincent import ipynb\n",
      "ipynb.init_d3()\n",
      "ipynb.init_vg()"
     ],
     "language": "python",
     "metadata": {},
     "outputs": [
      {
       "html": [
        "<script src=\"http://d3js.org/d3.v3.min.js\"></script>"
       ],
       "metadata": {},
       "output_type": "display_data",
       "text": [
        "<IPython.core.display.HTML at 0x2ed2e90>"
       ]
      },
      {
       "html": [
        "<script src=\"http://trifacta.github.com/vega/vega.js\"></script>"
       ],
       "metadata": {},
       "output_type": "display_data",
       "text": [
        "<IPython.core.display.HTML at 0x2ed2f50>"
       ]
      },
      {
       "html": [
        "<script src=\"http://d3js.org/d3.v3.min.js\"></script>"
       ],
       "metadata": {},
       "output_type": "display_data",
       "text": [
        "<IPython.core.display.HTML at 0x2edb150>"
       ]
      },
      {
       "html": [
        "<script src=\"http://trifacta.github.com/vega/vega.js\"></script>"
       ],
       "metadata": {},
       "output_type": "display_data",
       "text": [
        "<IPython.core.display.HTML at 0x2edb110>"
       ]
      }
     ],
     "prompt_number": 2
    },
    {
     "cell_type": "code",
     "collapsed": false,
     "input": [
      "md = find()\n",
      "mde={}\n",
      "for item in sorted(md, key=lambda key: key):\n",
      "    mde[item] = md[item]\n",
      "print mde"
     ],
     "language": "python",
     "metadata": {},
     "outputs": [
      {
       "output_type": "stream",
       "stream": "stdout",
       "text": [
        "{datetime.datetime(2013, 9, 21, 13, 0): {'text': 878}, datetime.datetime(2013, 9, 21, 18, 0): {'text': 828}, datetime.datetime(2013, 9, 21, 16, 0): {'text': 911}, datetime.datetime(2013, 9, 21, 15, 0): {'text': 664}, datetime.datetime(2013, 9, 21, 12, 0): {'text': 348}, datetime.datetime(2013, 9, 21, 11, 0): {'text': 239}, datetime.datetime(2013, 9, 21, 17, 0): {'text': 835}, datetime.datetime(2013, 9, 21, 19, 0): {'text': 435}, datetime.datetime(2013, 9, 21, 14, 0): {'text': 816}}\n"
       ]
      }
     ],
     "prompt_number": 3
    },
    {
     "cell_type": "code",
     "collapsed": false,
     "input": [
      "# Number of tokens in tweets containing the word \"mhacks\" since 7am Saturday Morning\n",
      "my_data = find()\n",
      "my_series = pandas.Series([count['text'] for count in my_data.values()],\n",
      "                          index=[time - datetime.timedelta(hours=4) for \n",
      "                                 time in my_data.keys()])\n",
      "print my_series"
     ],
     "language": "python",
     "metadata": {},
     "outputs": [
      {
       "output_type": "stream",
       "stream": "stdout",
       "text": [
        "2013-09-21 07:00:00    239\n",
        "2013-09-21 08:00:00    348\n",
        "2013-09-21 09:00:00    878\n",
        "2013-09-21 10:00:00    816\n",
        "2013-09-21 11:00:00    664\n",
        "2013-09-21 12:00:00    911\n",
        "2013-09-21 13:00:00    835\n",
        "2013-09-21 14:00:00    828\n",
        "2013-09-21 15:00:00    435\n",
        "dtype: int64\n"
       ]
      }
     ],
     "prompt_number": 4
    },
    {
     "cell_type": "code",
     "collapsed": false,
     "input": [
      "# Number of tokens in tweets containing the word \"mhacks\" since 7am Saturday Morning\n",
      "line = vincent.Line(my_series)\n",
      "line.axis_titles(x='Hour', y='Tokens')\n",
      "line.display()"
     ],
     "language": "python",
     "metadata": {},
     "outputs": [
      {
       "html": [
        "<div id=\"vis58204\"></div>"
       ],
       "metadata": {},
       "output_type": "display_data",
       "text": [
        "<IPython.core.display.HTML at 0x2edb5d0>"
       ]
      },
      {
       "javascript": [
        "vg.parse.spec({\"legends\": [], \"scales\": [{\"domain\": {\"field\": \"data.idx\", \"data\": \"table\"}, \"type\": \"time\", \"range\": \"width\", \"name\": \"x\"}, {\"domain\": {\"field\": \"data.val\", \"data\": \"table\"}, \"type\": \"linear\", \"range\": \"height\", \"name\": \"y\", \"nice\": true}, {\"range\": \"category20\", \"type\": \"ordinal\", \"domain\": {\"field\": \"data.col\", \"data\": \"table\"}, \"name\": \"color\"}], \"axes\": [{\"scale\": \"x\", \"type\": \"x\", \"title\": \"Hour\"}, {\"scale\": \"y\", \"type\": \"y\", \"title\": \"Tokens\"}], \"height\": 300, \"padding\": {\"top\": 10, \"bottom\": 50, \"right\": 100, \"left\": 50}, \"width\": 500, \"marks\": [{\"type\": \"group\", \"from\": {\"data\": \"table\", \"transform\": [{\"keys\": [\"data.col\"], \"type\": \"facet\"}]}, \"marks\": [{\"type\": \"line\", \"properties\": {\"enter\": {\"y\": {\"field\": \"data.val\", \"scale\": \"y\"}, \"x\": {\"field\": \"data.idx\", \"scale\": \"x\"}, \"stroke\": {\"field\": \"data.col\", \"scale\": \"color\"}, \"strokeWidth\": {\"value\": 2}}}}]}], \"data\": [{\"values\": [{\"val\": 239, \"col\": \"data\", \"idx\": 1379761200000}, {\"val\": 348, \"col\": \"data\", \"idx\": 1379764800000}, {\"val\": 878, \"col\": \"data\", \"idx\": 1379768400000}, {\"val\": 816, \"col\": \"data\", \"idx\": 1379772000000}, {\"val\": 664, \"col\": \"data\", \"idx\": 1379775600000}, {\"val\": 911, \"col\": \"data\", \"idx\": 1379779200000}, {\"val\": 835, \"col\": \"data\", \"idx\": 1379782800000}, {\"val\": 828, \"col\": \"data\", \"idx\": 1379786400000}, {\"val\": 435, \"col\": \"data\", \"idx\": 1379790000000}], \"name\": \"table\"}]}, function(chart) { chart({el:\"#vis58204\"}).update(); });"
       ],
       "metadata": {},
       "output_type": "display_data",
       "text": [
        "<IPython.core.display.Javascript at 0x2edb690>"
       ]
      }
     ],
     "prompt_number": 5
    },
    {
     "cell_type": "code",
     "collapsed": false,
     "input": [
      "# Number of tokens in tweets containing the word \"hack\" vs \"food\" since 7am Saturday Morning\n",
      "my_data = find(token=\"internet\")\n",
      "my_data2 = find(token=\"hack\")\n",
      "my_series = pandas.Series([count['percentage'] for count in my_data.values()],\n",
      "                          index=[time - datetime.timedelta(hours=4) for \n",
      "                                 time in my_data.keys()])\n",
      "my_series2 = pandas.Series([count['percentage'] for count in my_data2.values()],\n",
      "                          index=[time - datetime.timedelta(hours=4) for \n",
      "                                 time in my_data2.keys()])\n",
      "print my_series\n",
      "print my_series2\n",
      "# Here we have discrete data sets so we need to fill in hours..."
     ],
     "language": "python",
     "metadata": {},
     "outputs": [
      {
       "output_type": "stream",
       "stream": "stdout",
       "text": [
        "2013-09-21 07:00:00    0.418410\n",
        "2013-09-21 08:00:00    0.574713\n",
        "2013-09-21 09:00:00    0.569476\n",
        "2013-09-21 10:00:00    0.980392\n",
        "dtype: float64\n",
        "2013-09-21 09:00:00    0.113895\n",
        "2013-09-21 10:00:00    0.367647\n",
        "2013-09-21 12:00:00    0.109769\n",
        "2013-09-21 13:00:00    0.239521\n",
        "2013-09-21 15:00:00    0.689655\n",
        "dtype: float64\n"
       ]
      }
     ],
     "prompt_number": 6
    },
    {
     "cell_type": "code",
     "collapsed": false,
     "input": [
      "# Number of tokens in tweets containing the word \"hack\" vs \"food\" since 7am Saturday Morning\n",
      "my_index = my_data.keys()\n",
      "my_index.extend(my_data2.keys())\n",
      "my_index = [time - datetime.timedelta(hours=4) for \n",
      "                                 time in my_index]\n",
      "my_index = sorted(list(set(my_index)))\n",
      "\n",
      "data_series = {'internet': my_series,\n",
      "               'hack': my_series2}\n",
      "\n",
      "lines_series = {'index': my_index}\n",
      "\n",
      "for category in data_series.keys():\n",
      "    lines_series[category] = []\n",
      "    for hour in my_index:\n",
      "        lines_series[category].append(data_series[category].get(hour, 0.001))\n",
      "lines_series['index'] = my_index\n",
      "pprint.pprint(lines_series)\n",
      "# We did it the hard way, I'm sure Pandas has a way..."
     ],
     "language": "python",
     "metadata": {},
     "outputs": [
      {
       "output_type": "stream",
       "stream": "stdout",
       "text": [
        "{'hack': [0.001,\n",
        "          0.001,\n",
        "          0.11389521640091116,\n",
        "          0.36764705882352938,\n",
        "          0.10976948408342481,\n",
        "          0.23952095808383234,\n",
        "          0.68965517241379315],\n",
        " 'index': [datetime.datetime(2013, 9, 21, 7, 0),\n",
        "           datetime.datetime(2013, 9, 21, 8, 0),\n",
        "           datetime.datetime(2013, 9, 21, 9, 0),\n",
        "           datetime.datetime(2013, 9, 21, 10, 0),\n",
        "           datetime.datetime(2013, 9, 21, 12, 0),\n",
        "           datetime.datetime(2013, 9, 21, 13, 0),\n",
        "           datetime.datetime(2013, 9, 21, 15, 0)],\n",
        " 'internet': [0.41841004184100417,\n",
        "              0.57471264367816088,\n",
        "              0.56947608200455579,\n",
        "              0.98039215686274506,\n",
        "              0.001,\n",
        "              0.001,\n",
        "              0.001]}\n"
       ]
      }
     ],
     "prompt_number": 7
    },
    {
     "cell_type": "code",
     "collapsed": false,
     "input": [
      "# Number of tokens in tweets containing the word \"hack\" vs \"food\" since 7am Saturday Morning\n",
      "\n",
      "data_array = numpy.array([lines_series['hack'], lines_series['internet']])\n",
      "data_array = data_array.transpose()\n",
      "df = pandas.DataFrame(data_array, index=lines_series['index'], columns=data_series.keys())\n",
      "line = vincent.Line(df)\n",
      "line.axis_titles(x='Hour', y='Tokens')\n",
      "line.legend(title='Keywords')\n",
      "line.display()\n",
      "\n",
      "# Cool! So it seems that the internet problem was pretty bad at 10 AM but all fixed by 12PM."
     ],
     "language": "python",
     "metadata": {},
     "outputs": [
      {
       "html": [
        "<div id=\"vis10381\"></div>"
       ],
       "metadata": {},
       "output_type": "display_data",
       "text": [
        "<IPython.core.display.HTML at 0x2edb490>"
       ]
      },
      {
       "javascript": [
        "vg.parse.spec({\"legends\": [{\"title\": \"Keywords\", \"offset\": 0, \"fill\": \"color\"}], \"scales\": [{\"domain\": {\"field\": \"data.idx\", \"data\": \"table\"}, \"type\": \"time\", \"range\": \"width\", \"name\": \"x\"}, {\"domain\": {\"field\": \"data.val\", \"data\": \"table\"}, \"type\": \"linear\", \"range\": \"height\", \"name\": \"y\", \"nice\": true}, {\"range\": \"category20\", \"type\": \"ordinal\", \"domain\": {\"field\": \"data.col\", \"data\": \"table\"}, \"name\": \"color\"}], \"axes\": [{\"scale\": \"x\", \"type\": \"x\", \"title\": \"Hour\"}, {\"scale\": \"y\", \"type\": \"y\", \"title\": \"Tokens\"}], \"height\": 300, \"padding\": {\"top\": 10, \"bottom\": 50, \"right\": 100, \"left\": 50}, \"width\": 500, \"marks\": [{\"type\": \"group\", \"from\": {\"data\": \"table\", \"transform\": [{\"keys\": [\"data.col\"], \"type\": \"facet\"}]}, \"marks\": [{\"type\": \"line\", \"properties\": {\"enter\": {\"y\": {\"field\": \"data.val\", \"scale\": \"y\"}, \"x\": {\"field\": \"data.idx\", \"scale\": \"x\"}, \"stroke\": {\"field\": \"data.col\", \"scale\": \"color\"}, \"strokeWidth\": {\"value\": 2}}}}]}], \"data\": [{\"values\": [{\"val\": 0.001, \"col\": \"hack\", \"idx\": 1379761200000}, {\"val\": 0.41841004184100417, \"col\": \"internet\", \"idx\": 1379761200000}, {\"val\": 0.001, \"col\": \"hack\", \"idx\": 1379764800000}, {\"val\": 0.5747126436781609, \"col\": \"internet\", \"idx\": 1379764800000}, {\"val\": 0.11389521640091116, \"col\": \"hack\", \"idx\": 1379768400000}, {\"val\": 0.5694760820045558, \"col\": \"internet\", \"idx\": 1379768400000}, {\"val\": 0.3676470588235294, \"col\": \"hack\", \"idx\": 1379772000000}, {\"val\": 0.9803921568627451, \"col\": \"internet\", \"idx\": 1379772000000}, {\"val\": 0.10976948408342481, \"col\": \"hack\", \"idx\": 1379779200000}, {\"val\": 0.001, \"col\": \"internet\", \"idx\": 1379779200000}, {\"val\": 0.23952095808383234, \"col\": \"hack\", \"idx\": 1379782800000}, {\"val\": 0.001, \"col\": \"internet\", \"idx\": 1379782800000}, {\"val\": 0.6896551724137931, \"col\": \"hack\", \"idx\": 1379790000000}, {\"val\": 0.001, \"col\": \"internet\", \"idx\": 1379790000000}], \"name\": \"table\"}]}, function(chart) { chart({el:\"#vis10381\"}).update(); });"
       ],
       "metadata": {},
       "output_type": "display_data",
       "text": [
        "<IPython.core.display.Javascript at 0x2edb410>"
       ]
      }
     ],
     "prompt_number": 8
    }
   ],
   "metadata": {}
  }
 ]
}