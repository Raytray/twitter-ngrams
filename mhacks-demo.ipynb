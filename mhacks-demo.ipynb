{
 "metadata": {
  "name": ""
 },
 "nbformat": 3,
 "nbformat_minor": 0,
 "worksheets": [
  {
   "cells": [
    {
     "cell_type": "code",
     "collapsed": false,
     "input": [
      "import vincent\n",
      "import pandas\n",
      "import numpy\n",
      "import pprint\n",
      "import datetime\n",
      "\n",
      "from mongo_query import find\n",
      "\n",
      "from vincent import ipynb\n",
      "ipynb.init_d3()\n",
      "ipynb.init_vg()"
     ],
     "language": "python",
     "metadata": {},
     "outputs": [
      {
       "html": [
        "<script src=\"http://d3js.org/d3.v3.min.js\"></script>"
       ],
       "metadata": {},
       "output_type": "display_data",
       "text": [
        "<IPython.core.display.HTML at 0x35c7d50>"
       ]
      },
      {
       "html": [
        "<script src=\"http://trifacta.github.com/vega/vega.js\"></script>"
       ],
       "metadata": {},
       "output_type": "display_data",
       "text": [
        "<IPython.core.display.HTML at 0x35c7110>"
       ]
      }
     ],
     "prompt_number": 50
    },
    {
     "cell_type": "code",
     "collapsed": false,
     "input": [
      "# Number of tokens in tweets containing the word \"mhacks\" since 7am Saturday Morning\n",
      "my_data = find()\n",
      "my_series = pandas.Series([count['text'] for count in my_data.values()],\n",
      "                          index=[time - datetime.timedelta(hours=4) for \n",
      "                                 time in my_data.keys()])\n",
      "print my_series"
     ],
     "language": "python",
     "metadata": {},
     "outputs": [
      {
       "output_type": "stream",
       "stream": "stdout",
       "text": [
        "2013-09-21 07:00:00    239\n",
        "2013-09-21 08:00:00    348\n",
        "2013-09-21 09:00:00    878\n",
        "2013-09-21 10:00:00    816\n",
        "2013-09-21 11:00:00    664\n",
        "2013-09-21 12:00:00    911\n",
        "2013-09-21 13:00:00    835\n",
        "2013-09-21 14:00:00    828\n",
        "2013-09-21 15:00:00    645\n",
        "2013-09-21 16:00:00    577\n",
        "2013-09-21 17:00:00    861\n",
        "2013-09-21 18:00:00    568\n",
        "2013-09-21 19:00:00    224\n",
        "2013-09-21 20:00:00    537\n",
        "2013-09-21 21:00:00    673\n",
        "2013-09-21 22:00:00    578\n",
        "2013-09-21 23:00:00    535\n",
        "2013-09-22 00:00:00    441\n",
        "2013-09-22 01:00:00    538\n",
        "2013-09-22 02:00:00    456\n",
        "2013-09-22 03:00:00    336\n",
        "2013-09-22 04:00:00    167\n",
        "2013-09-22 05:00:00    198\n",
        "2013-09-22 06:00:00    196\n",
        "2013-09-22 07:00:00    191\n",
        "dtype: int64\n"
       ]
      }
     ],
     "prompt_number": 51
    },
    {
     "cell_type": "code",
     "collapsed": false,
     "input": [
      "# Number of tokens in tweets containing the word \"mhacks\" since 7am Saturday Morning\n",
      "line = vincent.Line(my_series)\n",
      "line.axis_titles(x='Hour', y='Tokens')\n",
      "line.display()"
     ],
     "language": "python",
     "metadata": {},
     "outputs": [
      {
       "html": [
        "<div id=\"vis49523\"></div>"
       ],
       "metadata": {},
       "output_type": "display_data",
       "text": [
        "<IPython.core.display.HTML at 0x35c7190>"
       ]
      },
      {
       "javascript": [
        "vg.parse.spec({\"legends\": [], \"scales\": [{\"domain\": {\"field\": \"data.idx\", \"data\": \"table\"}, \"type\": \"time\", \"range\": \"width\", \"name\": \"x\"}, {\"domain\": {\"field\": \"data.val\", \"data\": \"table\"}, \"type\": \"linear\", \"range\": \"height\", \"name\": \"y\", \"nice\": true}, {\"range\": \"category20\", \"type\": \"ordinal\", \"domain\": {\"field\": \"data.col\", \"data\": \"table\"}, \"name\": \"color\"}], \"axes\": [{\"scale\": \"x\", \"type\": \"x\", \"title\": \"Hour\"}, {\"scale\": \"y\", \"type\": \"y\", \"title\": \"Tokens\"}], \"height\": 300, \"padding\": {\"top\": 10, \"bottom\": 50, \"right\": 100, \"left\": 50}, \"width\": 500, \"marks\": [{\"type\": \"group\", \"from\": {\"data\": \"table\", \"transform\": [{\"keys\": [\"data.col\"], \"type\": \"facet\"}]}, \"marks\": [{\"type\": \"line\", \"properties\": {\"enter\": {\"y\": {\"field\": \"data.val\", \"scale\": \"y\"}, \"x\": {\"field\": \"data.idx\", \"scale\": \"x\"}, \"stroke\": {\"field\": \"data.col\", \"scale\": \"color\"}, \"strokeWidth\": {\"value\": 2}}}}]}], \"data\": [{\"values\": [{\"val\": 239, \"col\": \"data\", \"idx\": 1379761200000}, {\"val\": 348, \"col\": \"data\", \"idx\": 1379764800000}, {\"val\": 878, \"col\": \"data\", \"idx\": 1379768400000}, {\"val\": 816, \"col\": \"data\", \"idx\": 1379772000000}, {\"val\": 664, \"col\": \"data\", \"idx\": 1379775600000}, {\"val\": 911, \"col\": \"data\", \"idx\": 1379779200000}, {\"val\": 835, \"col\": \"data\", \"idx\": 1379782800000}, {\"val\": 828, \"col\": \"data\", \"idx\": 1379786400000}, {\"val\": 645, \"col\": \"data\", \"idx\": 1379790000000}, {\"val\": 577, \"col\": \"data\", \"idx\": 1379793600000}, {\"val\": 861, \"col\": \"data\", \"idx\": 1379797200000}, {\"val\": 568, \"col\": \"data\", \"idx\": 1379800800000}, {\"val\": 224, \"col\": \"data\", \"idx\": 1379804400000}, {\"val\": 537, \"col\": \"data\", \"idx\": 1379808000000}, {\"val\": 673, \"col\": \"data\", \"idx\": 1379811600000}, {\"val\": 578, \"col\": \"data\", \"idx\": 1379815200000}, {\"val\": 535, \"col\": \"data\", \"idx\": 1379818800000}, {\"val\": 441, \"col\": \"data\", \"idx\": 1379822400000}, {\"val\": 538, \"col\": \"data\", \"idx\": 1379826000000}, {\"val\": 456, \"col\": \"data\", \"idx\": 1379829600000}, {\"val\": 336, \"col\": \"data\", \"idx\": 1379833200000}, {\"val\": 167, \"col\": \"data\", \"idx\": 1379836800000}, {\"val\": 198, \"col\": \"data\", \"idx\": 1379840400000}, {\"val\": 196, \"col\": \"data\", \"idx\": 1379844000000}, {\"val\": 191, \"col\": \"data\", \"idx\": 1379847600000}], \"name\": \"table\"}]}, function(chart) { chart({el:\"#vis49523\"}).update(); });"
       ],
       "metadata": {},
       "output_type": "display_data",
       "text": [
        "<IPython.core.display.Javascript at 0x35ebf10>"
       ]
      }
     ],
     "prompt_number": 52
    },
    {
     "cell_type": "code",
     "collapsed": false,
     "input": [
      "# Number of tokens in tweets containing the word \"hack\" vs \"food\" since 7am Saturday Morning\n",
      "my_data = find(token=\"internet\")\n",
      "my_data2 = find(token=\"hack\")\n",
      "my_series = pandas.Series([count['percentage'] for count in my_data.values()],\n",
      "                          index=[time - datetime.timedelta(hours=4) for \n",
      "                                 time in my_data.keys()])\n",
      "my_series2 = pandas.Series([count['percentage'] for count in my_data2.values()],\n",
      "                          index=[time - datetime.timedelta(hours=4) for \n",
      "                                 time in my_data2.keys()])\n",
      "print my_series\n",
      "print my_series2\n",
      "# Here we have discrete data sets so we need to fill in hours..."
     ],
     "language": "python",
     "metadata": {},
     "outputs": [
      {
       "output_type": "stream",
       "stream": "stdout",
       "text": [
        "2013-09-21 07:00:00    0.004184\n",
        "2013-09-21 08:00:00    0.005747\n",
        "2013-09-21 09:00:00    0.005695\n",
        "2013-09-21 10:00:00    0.009804\n",
        "2013-09-22 05:00:00    0.005051\n",
        "2013-09-22 07:00:00    0.005236\n",
        "dtype: float64\n",
        "2013-09-21 09:00:00    0.001139\n",
        "2013-09-21 10:00:00    0.003676\n",
        "2013-09-21 12:00:00    0.001098\n",
        "2013-09-21 13:00:00    0.002395\n",
        "2013-09-21 15:00:00    0.004651\n",
        "2013-09-21 16:00:00    0.005199\n",
        "2013-09-21 21:00:00    0.001486\n",
        "2013-09-21 23:00:00    0.005607\n",
        "2013-09-22 00:00:00    0.004535\n",
        "2013-09-22 02:00:00    0.002193\n",
        "2013-09-22 05:00:00    0.005051\n",
        "dtype: float64\n"
       ]
      }
     ],
     "prompt_number": 53
    },
    {
     "cell_type": "code",
     "collapsed": false,
     "input": [
      "# Number of tokens in tweets containing the word \"hack\" vs \"food\" since 7am Saturday Morning\n",
      "my_index = my_data.keys()\n",
      "my_index.extend(my_data2.keys())\n",
      "my_index = [time - datetime.timedelta(hours=4) for \n",
      "                                 time in my_index]\n",
      "my_index = sorted(list(set(my_index)))\n",
      "\n",
      "data_series = {'internet': my_series,\n",
      "               'hack': my_series2}\n",
      "\n",
      "lines_series = {'index': my_index}\n",
      "\n",
      "for category in data_series.keys():\n",
      "    lines_series[category] = []\n",
      "    for hour in my_index:\n",
      "        lines_series[category].append(data_series[category].get(hour, 0))\n",
      "lines_series['index'] = my_index\n",
      "pprint.pprint(lines_series)\n",
      "# We did it the hard way, I'm sure Pandas has a way..."
     ],
     "language": "python",
     "metadata": {},
     "outputs": [
      {
       "output_type": "stream",
       "stream": "stdout",
       "text": [
        "{'hack': [0,\n",
        "          0,\n",
        "          0.0011389521640091116,\n",
        "          0.0036764705882352941,\n",
        "          0.0010976948408342481,\n",
        "          0.0023952095808383233,\n",
        "          0.0046511627906976744,\n",
        "          0.0051993067590987872,\n",
        "          0.0014858841010401188,\n",
        "          0.0056074766355140183,\n",
        "          0.0045351473922902496,\n",
        "          0.0021929824561403508,\n",
        "          0.0050505050505050509,\n",
        "          0],\n",
        " 'index': [datetime.datetime(2013, 9, 21, 7, 0),\n",
        "           datetime.datetime(2013, 9, 21, 8, 0),\n",
        "           datetime.datetime(2013, 9, 21, 9, 0),\n",
        "           datetime.datetime(2013, 9, 21, 10, 0),\n",
        "           datetime.datetime(2013, 9, 21, 12, 0),\n",
        "           datetime.datetime(2013, 9, 21, 13, 0),\n",
        "           datetime.datetime(2013, 9, 21, 15, 0),\n",
        "           datetime.datetime(2013, 9, 21, 16, 0),\n",
        "           datetime.datetime(2013, 9, 21, 21, 0),\n",
        "           datetime.datetime(2013, 9, 21, 23, 0),\n",
        "           datetime.datetime(2013, 9, 22, 0, 0),\n",
        "           datetime.datetime(2013, 9, 22, 2, 0),\n",
        "           datetime.datetime(2013, 9, 22, 5, 0),\n",
        "           datetime.datetime(2013, 9, 22, 7, 0)],\n",
        " 'internet': [0.0041841004184100415,\n",
        "              0.0057471264367816091,\n",
        "              0.0056947608200455585,\n",
        "              0.0098039215686274508,\n",
        "              0,\n",
        "              0,\n",
        "              0,\n",
        "              0,\n",
        "              0,\n",
        "              0,\n",
        "              0,\n",
        "              0,\n",
        "              0.0050505050505050509,\n",
        "              0.005235602094240838]}\n"
       ]
      }
     ],
     "prompt_number": 54
    },
    {
     "cell_type": "code",
     "collapsed": false,
     "input": [
      "# Number of tokens in tweets containing the word \"hack\" vs \"food\" since 7am Saturday Morning\n",
      "\n",
      "data_array = numpy.array([lines_series['hack'], lines_series['internet']])\n",
      "data_array = data_array.transpose()\n",
      "df = pandas.DataFrame(data_array, index=lines_series['index'], columns=data_series.keys())\n",
      "line = vincent.Line(df)\n",
      "line.axis_titles(x='Hour', y='Tokens/total tokens (in that hour)')\n",
      "line.legend(title='Keywords')\n",
      "line.display()\n",
      "\n",
      "# Cool! So it seems that the internet problem was pretty bad at 10 AM but all fixed by 12PM."
     ],
     "language": "python",
     "metadata": {},
     "outputs": [
      {
       "html": [
        "<div id=\"vis28847\"></div>"
       ],
       "metadata": {},
       "output_type": "display_data",
       "text": [
        "<IPython.core.display.HTML at 0x35c7f10>"
       ]
      },
      {
       "javascript": [
        "vg.parse.spec({\"legends\": [{\"title\": \"Keywords\", \"offset\": 0, \"fill\": \"color\"}], \"scales\": [{\"domain\": {\"field\": \"data.idx\", \"data\": \"table\"}, \"type\": \"time\", \"range\": \"width\", \"name\": \"x\"}, {\"domain\": {\"field\": \"data.val\", \"data\": \"table\"}, \"type\": \"linear\", \"range\": \"height\", \"name\": \"y\", \"nice\": true}, {\"range\": \"category20\", \"type\": \"ordinal\", \"domain\": {\"field\": \"data.col\", \"data\": \"table\"}, \"name\": \"color\"}], \"axes\": [{\"scale\": \"x\", \"type\": \"x\", \"title\": \"Hour\"}, {\"scale\": \"y\", \"type\": \"y\", \"title\": \"Tokens/total tokens (in that hour)\"}], \"height\": 300, \"padding\": {\"top\": 10, \"bottom\": 50, \"right\": 100, \"left\": 50}, \"width\": 500, \"marks\": [{\"type\": \"group\", \"from\": {\"data\": \"table\", \"transform\": [{\"keys\": [\"data.col\"], \"type\": \"facet\"}]}, \"marks\": [{\"type\": \"line\", \"properties\": {\"enter\": {\"y\": {\"field\": \"data.val\", \"scale\": \"y\"}, \"x\": {\"field\": \"data.idx\", \"scale\": \"x\"}, \"stroke\": {\"field\": \"data.col\", \"scale\": \"color\"}, \"strokeWidth\": {\"value\": 2}}}}]}], \"data\": [{\"values\": [{\"val\": 0.0, \"col\": \"hack\", \"idx\": 1379761200000}, {\"val\": 0.0041841004184100415, \"col\": \"internet\", \"idx\": 1379761200000}, {\"val\": 0.0, \"col\": \"hack\", \"idx\": 1379764800000}, {\"val\": 0.005747126436781609, \"col\": \"internet\", \"idx\": 1379764800000}, {\"val\": 0.0011389521640091116, \"col\": \"hack\", \"idx\": 1379768400000}, {\"val\": 0.0056947608200455585, \"col\": \"internet\", \"idx\": 1379768400000}, {\"val\": 0.003676470588235294, \"col\": \"hack\", \"idx\": 1379772000000}, {\"val\": 0.00980392156862745, \"col\": \"internet\", \"idx\": 1379772000000}, {\"val\": 0.0010976948408342481, \"col\": \"hack\", \"idx\": 1379779200000}, {\"val\": 0.0, \"col\": \"internet\", \"idx\": 1379779200000}, {\"val\": 0.0023952095808383233, \"col\": \"hack\", \"idx\": 1379782800000}, {\"val\": 0.0, \"col\": \"internet\", \"idx\": 1379782800000}, {\"val\": 0.004651162790697674, \"col\": \"hack\", \"idx\": 1379790000000}, {\"val\": 0.0, \"col\": \"internet\", \"idx\": 1379790000000}, {\"val\": 0.005199306759098787, \"col\": \"hack\", \"idx\": 1379793600000}, {\"val\": 0.0, \"col\": \"internet\", \"idx\": 1379793600000}, {\"val\": 0.0014858841010401188, \"col\": \"hack\", \"idx\": 1379811600000}, {\"val\": 0.0, \"col\": \"internet\", \"idx\": 1379811600000}, {\"val\": 0.005607476635514018, \"col\": \"hack\", \"idx\": 1379818800000}, {\"val\": 0.0, \"col\": \"internet\", \"idx\": 1379818800000}, {\"val\": 0.0045351473922902496, \"col\": \"hack\", \"idx\": 1379822400000}, {\"val\": 0.0, \"col\": \"internet\", \"idx\": 1379822400000}, {\"val\": 0.0021929824561403508, \"col\": \"hack\", \"idx\": 1379829600000}, {\"val\": 0.0, \"col\": \"internet\", \"idx\": 1379829600000}, {\"val\": 0.005050505050505051, \"col\": \"hack\", \"idx\": 1379840400000}, {\"val\": 0.005050505050505051, \"col\": \"internet\", \"idx\": 1379840400000}, {\"val\": 0.0, \"col\": \"hack\", \"idx\": 1379847600000}, {\"val\": 0.005235602094240838, \"col\": \"internet\", \"idx\": 1379847600000}], \"name\": \"table\"}]}, function(chart) { chart({el:\"#vis28847\"}).update(); });"
       ],
       "metadata": {},
       "output_type": "display_data",
       "text": [
        "<IPython.core.display.Javascript at 0x35c7cd0>"
       ]
      }
     ],
     "prompt_number": 55
    }
   ],
   "metadata": {}
  }
 ]
}